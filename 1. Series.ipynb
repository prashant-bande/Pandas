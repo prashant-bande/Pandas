{
 "cells": [
  {
   "cell_type": "code",
   "execution_count": 1,
   "metadata": {},
   "outputs": [],
   "source": [
    "import pandas as pd"
   ]
  },
  {
   "cell_type": "code",
   "execution_count": 2,
   "metadata": {},
   "outputs": [
    {
     "name": "stdout",
     "output_type": "stream",
     "text": [
      "<class 'pandas.core.series.Series'>\n",
      "<class 'pandas.core.series.Series'>\n"
     ]
    }
   ],
   "source": [
    "# Lets import Pokemon column from pokemon.csv into the pandas series\n",
    "pokemon = pd.read_csv('pokemon.csv', usecols=['Pokemon'], squeeze=True)\n",
    "\n",
    "google = pd.read_csv('google_stock_price.csv', squeeze=True)\n",
    "print(type(pokemon))\n",
    "print(type(google))"
   ]
  },
  {
   "cell_type": "code",
   "execution_count": 3,
   "metadata": {},
   "outputs": [
    {
     "name": "stdout",
     "output_type": "stream",
     "text": [
      "0     Bulbasaur\n",
      "1       Ivysaur\n",
      "2      Venusaur\n",
      "3    Charmander\n",
      "4    Charmeleon\n",
      "Name: Pokemon, dtype: object\n",
      "716      Yveltal\n",
      "717      Zygarde\n",
      "718      Diancie\n",
      "719        Hoopa\n",
      "720    Volcanion\n",
      "Name: Pokemon, dtype: object\n",
      "0    50.12\n",
      "1    54.10\n",
      "2    54.65\n",
      "3    52.38\n",
      "4    52.95\n",
      "Name: Stock Price, dtype: float64\n",
      "3007    772.88\n",
      "3008    771.07\n",
      "3009    773.18\n",
      "3010    771.61\n",
      "3011    782.22\n",
      "Name: Stock Price, dtype: float64\n"
     ]
    }
   ],
   "source": [
    "print(pokemon.head())\n",
    "print(pokemon.tail())\n",
    "print(google.head())\n",
    "print(google.tail())"
   ]
  },
  {
   "cell_type": "code",
   "execution_count": 4,
   "metadata": {},
   "outputs": [
    {
     "name": "stdout",
     "output_type": "stream",
     "text": [
      "721\n",
      "3012\n"
     ]
    }
   ],
   "source": [
    "print(len(pokemon))\n",
    "print(len(google))"
   ]
  },
  {
   "cell_type": "code",
   "execution_count": 5,
   "metadata": {},
   "outputs": [
    {
     "name": "stdout",
     "output_type": "stream",
     "text": [
      "<class 'pandas.core.series.Series'>\n",
      "<class 'pandas.core.series.Series'>\n"
     ]
    }
   ],
   "source": [
    "print(type(pokemon))\n",
    "print(type(google))"
   ]
  },
  {
   "cell_type": "code",
   "execution_count": 6,
   "metadata": {
    "collapsed": true
   },
   "outputs": [
    {
     "data": {
      "text/plain": [
       "['Abomasnow',\n",
       " 'Abra',\n",
       " 'Absol',\n",
       " 'Accelgor',\n",
       " 'Aegislash',\n",
       " 'Aerodactyl',\n",
       " 'Aggron',\n",
       " 'Aipom',\n",
       " 'Alakazam',\n",
       " 'Alomomola',\n",
       " 'Altaria',\n",
       " 'Amaura',\n",
       " 'Ambipom',\n",
       " 'Amoonguss',\n",
       " 'Ampharos',\n",
       " 'Anorith',\n",
       " 'Arbok',\n",
       " 'Arcanine',\n",
       " 'Arceus',\n",
       " 'Archen',\n",
       " 'Archeops',\n",
       " 'Ariados',\n",
       " 'Armaldo',\n",
       " 'Aromatisse',\n",
       " 'Aron',\n",
       " 'Articuno',\n",
       " 'Audino',\n",
       " 'Aurorus',\n",
       " 'Avalugg',\n",
       " 'Axew',\n",
       " 'Azelf',\n",
       " 'Azumarill',\n",
       " 'Azurill',\n",
       " 'Bagon',\n",
       " 'Baltoy',\n",
       " 'Banette',\n",
       " 'Barbaracle',\n",
       " 'Barboach',\n",
       " 'Basculin',\n",
       " 'Bastiodon',\n",
       " 'Bayleef',\n",
       " 'Beartic',\n",
       " 'Beautifly',\n",
       " 'Beedrill',\n",
       " 'Beheeyem',\n",
       " 'Beldum',\n",
       " 'Bellossom',\n",
       " 'Bellsprout',\n",
       " 'Bergmite',\n",
       " 'Bibarel',\n",
       " 'Bidoof',\n",
       " 'Binacle',\n",
       " 'Bisharp',\n",
       " 'Blastoise',\n",
       " 'Blaziken',\n",
       " 'Blissey',\n",
       " 'Blitzle',\n",
       " 'Boldore',\n",
       " 'Bonsly',\n",
       " 'Bouffalant',\n",
       " 'Braixen',\n",
       " 'Braviary',\n",
       " 'Breloom',\n",
       " 'Bronzong',\n",
       " 'Bronzor',\n",
       " 'Budew',\n",
       " 'Buizel',\n",
       " 'Bulbasaur',\n",
       " 'Buneary',\n",
       " 'Bunnelby',\n",
       " 'Burmy',\n",
       " 'Butterfree',\n",
       " 'Cacnea',\n",
       " 'Cacturne',\n",
       " 'Camerupt',\n",
       " 'Carbink',\n",
       " 'Carnivine',\n",
       " 'Carracosta',\n",
       " 'Carvanha',\n",
       " 'Cascoon',\n",
       " 'Castform',\n",
       " 'Caterpie',\n",
       " 'Celebi',\n",
       " 'Chandelure',\n",
       " 'Chansey',\n",
       " 'Charizard',\n",
       " 'Charmander',\n",
       " 'Charmeleon',\n",
       " 'Chatot',\n",
       " 'Cherrim',\n",
       " 'Cherubi',\n",
       " 'Chesnaught',\n",
       " 'Chespin',\n",
       " 'Chikorita',\n",
       " 'Chimchar',\n",
       " 'Chimecho',\n",
       " 'Chinchou',\n",
       " 'Chingling',\n",
       " 'Cinccino',\n",
       " 'Clamperl',\n",
       " 'Clauncher',\n",
       " 'Clawitzer',\n",
       " 'Claydol',\n",
       " 'Clefable',\n",
       " 'Clefairy',\n",
       " 'Cleffa',\n",
       " 'Cloyster',\n",
       " 'Cobalion',\n",
       " 'Cofagrigus',\n",
       " 'Combee',\n",
       " 'Combusken',\n",
       " 'Conkeldurr',\n",
       " 'Corphish',\n",
       " 'Corsola',\n",
       " 'Cottonee',\n",
       " 'Cradily',\n",
       " 'Cranidos',\n",
       " 'Crawdaunt',\n",
       " 'Cresselia',\n",
       " 'Croagunk',\n",
       " 'Crobat',\n",
       " 'Croconaw',\n",
       " 'Crustle',\n",
       " 'Cryogonal',\n",
       " 'Cubchoo',\n",
       " 'Cubone',\n",
       " 'Cyndaquil',\n",
       " 'Darkrai',\n",
       " 'Darmanitan',\n",
       " 'Darumaka',\n",
       " 'Dedenne',\n",
       " 'Deerling',\n",
       " 'Deino',\n",
       " 'Delcatty',\n",
       " 'Delibird',\n",
       " 'Delphox',\n",
       " 'Deoxys',\n",
       " 'Dewgong',\n",
       " 'Dewott',\n",
       " 'Dialga',\n",
       " 'Diancie',\n",
       " 'Diggersby',\n",
       " 'Diglett',\n",
       " 'Ditto',\n",
       " 'Dodrio',\n",
       " 'Doduo',\n",
       " 'Donphan',\n",
       " 'Doublade',\n",
       " 'Dragalge',\n",
       " 'Dragonair',\n",
       " 'Dragonite',\n",
       " 'Drapion',\n",
       " 'Dratini',\n",
       " 'Drifblim',\n",
       " 'Drifloon',\n",
       " 'Drilbur',\n",
       " 'Drowzee',\n",
       " 'Druddigon',\n",
       " 'Ducklett',\n",
       " 'Dugtrio',\n",
       " 'Dunsparce',\n",
       " 'Duosion',\n",
       " 'Durant',\n",
       " 'Dusclops',\n",
       " 'Dusknoir',\n",
       " 'Duskull',\n",
       " 'Dustox',\n",
       " 'Dwebble',\n",
       " 'Eelektrik',\n",
       " 'Eelektross',\n",
       " 'Eevee',\n",
       " 'Ekans',\n",
       " 'Electabuzz',\n",
       " 'Electivire',\n",
       " 'Electrike',\n",
       " 'Electrode',\n",
       " 'Elekid',\n",
       " 'Elgyem',\n",
       " 'Emboar',\n",
       " 'Emolga',\n",
       " 'Empoleon',\n",
       " 'Entei',\n",
       " 'Escavalier',\n",
       " 'Espeon',\n",
       " 'Espurr',\n",
       " 'Excadrill',\n",
       " 'Exeggcute',\n",
       " 'Exeggutor',\n",
       " 'Exploud',\n",
       " \"Farfetch'd\",\n",
       " 'Fearow',\n",
       " 'Feebas',\n",
       " 'Fennekin',\n",
       " 'Feraligatr',\n",
       " 'Ferroseed',\n",
       " 'Ferrothorn',\n",
       " 'Finneon',\n",
       " 'Flaaffy',\n",
       " 'Flabébé',\n",
       " 'Flareon',\n",
       " 'Fletchinder',\n",
       " 'Fletchling',\n",
       " 'Floatzel',\n",
       " 'Floette',\n",
       " 'Florges',\n",
       " 'Flygon',\n",
       " 'Foongus',\n",
       " 'Forretress',\n",
       " 'Fraxure',\n",
       " 'Frillish',\n",
       " 'Froakie',\n",
       " 'Frogadier',\n",
       " 'Froslass',\n",
       " 'Furfrou',\n",
       " 'Furret',\n",
       " 'Gabite',\n",
       " 'Gallade',\n",
       " 'Galvantula',\n",
       " 'Garbodor',\n",
       " 'Garchomp',\n",
       " 'Gardevoir',\n",
       " 'Gastly',\n",
       " 'Gastrodon',\n",
       " 'Genesect',\n",
       " 'Gengar',\n",
       " 'Geodude',\n",
       " 'Gible',\n",
       " 'Gigalith',\n",
       " 'Girafarig',\n",
       " 'Giratina',\n",
       " 'Glaceon',\n",
       " 'Glalie',\n",
       " 'Glameow',\n",
       " 'Gligar',\n",
       " 'Gliscor',\n",
       " 'Gloom',\n",
       " 'Gogoat',\n",
       " 'Golbat',\n",
       " 'Goldeen',\n",
       " 'Golduck',\n",
       " 'Golem',\n",
       " 'Golett',\n",
       " 'Golurk',\n",
       " 'Goodra',\n",
       " 'Goomy',\n",
       " 'Gorebyss',\n",
       " 'Gothita',\n",
       " 'Gothitelle',\n",
       " 'Gothorita',\n",
       " 'Gourgeist',\n",
       " 'Granbull',\n",
       " 'Graveler',\n",
       " 'Greninja',\n",
       " 'Grimer',\n",
       " 'Grotle',\n",
       " 'Groudon',\n",
       " 'Grovyle',\n",
       " 'Growlithe',\n",
       " 'Grumpig',\n",
       " 'Gulpin',\n",
       " 'Gurdurr',\n",
       " 'Gyarados',\n",
       " 'Happiny',\n",
       " 'Hariyama',\n",
       " 'Haunter',\n",
       " 'Hawlucha',\n",
       " 'Haxorus',\n",
       " 'Heatmor',\n",
       " 'Heatran',\n",
       " 'Heliolisk',\n",
       " 'Helioptile',\n",
       " 'Heracross',\n",
       " 'Herdier',\n",
       " 'Hippopotas',\n",
       " 'Hippowdon',\n",
       " 'Hitmonchan',\n",
       " 'Hitmonlee',\n",
       " 'Hitmontop',\n",
       " 'Ho-oh',\n",
       " 'Honchkrow',\n",
       " 'Honedge',\n",
       " 'Hoopa',\n",
       " 'Hoothoot',\n",
       " 'Hoppip',\n",
       " 'Horsea',\n",
       " 'Houndoom',\n",
       " 'Houndour',\n",
       " 'Huntail',\n",
       " 'Hydreigon',\n",
       " 'Hypno',\n",
       " 'Igglybuff',\n",
       " 'Illumise',\n",
       " 'Infernape',\n",
       " 'Inkay',\n",
       " 'Ivysaur',\n",
       " 'Jellicent',\n",
       " 'Jigglypuff',\n",
       " 'Jirachi',\n",
       " 'Jolteon',\n",
       " 'Joltik',\n",
       " 'Jumpluff',\n",
       " 'Jynx',\n",
       " 'Kabuto',\n",
       " 'Kabutops',\n",
       " 'Kadabra',\n",
       " 'Kakuna',\n",
       " 'Kangaskhan',\n",
       " 'Karrablast',\n",
       " 'Kecleon',\n",
       " 'Keldeo',\n",
       " 'Kingdra',\n",
       " 'Kingler',\n",
       " 'Kirlia',\n",
       " 'Klang',\n",
       " 'Klefki',\n",
       " 'Klink',\n",
       " 'Klinklang',\n",
       " 'Koffing',\n",
       " 'Krabby',\n",
       " 'Kricketot',\n",
       " 'Kricketune',\n",
       " 'Krokorok',\n",
       " 'Krookodile',\n",
       " 'Kyogre',\n",
       " 'Kyurem',\n",
       " 'Lairon',\n",
       " 'Lampent',\n",
       " 'Landorus',\n",
       " 'Lanturn',\n",
       " 'Lapras',\n",
       " 'Larvesta',\n",
       " 'Larvitar',\n",
       " 'Latias',\n",
       " 'Latios',\n",
       " 'Leafeon',\n",
       " 'Leavanny',\n",
       " 'Ledian',\n",
       " 'Ledyba',\n",
       " 'Lickilicky',\n",
       " 'Lickitung',\n",
       " 'Liepard',\n",
       " 'Lileep',\n",
       " 'Lilligant',\n",
       " 'Lillipup',\n",
       " 'Linoone',\n",
       " 'Litleo',\n",
       " 'Litwick',\n",
       " 'Lombre',\n",
       " 'Lopunny',\n",
       " 'Lotad',\n",
       " 'Loudred',\n",
       " 'Lucario',\n",
       " 'Ludicolo',\n",
       " 'Lugia',\n",
       " 'Lumineon',\n",
       " 'Lunatone',\n",
       " 'Luvdisc',\n",
       " 'Luxio',\n",
       " 'Luxray',\n",
       " 'Machamp',\n",
       " 'Machoke',\n",
       " 'Machop',\n",
       " 'Magby',\n",
       " 'Magcargo',\n",
       " 'Magikarp',\n",
       " 'Magmar',\n",
       " 'Magmortar',\n",
       " 'Magnemite',\n",
       " 'Magneton',\n",
       " 'Magnezone',\n",
       " 'Makuhita',\n",
       " 'Malamar',\n",
       " 'Mamoswine',\n",
       " 'Manaphy',\n",
       " 'Mandibuzz',\n",
       " 'Manectric',\n",
       " 'Mankey',\n",
       " 'Mantine',\n",
       " 'Mantyke',\n",
       " 'Maractus',\n",
       " 'Mareep',\n",
       " 'Marill',\n",
       " 'Marowak',\n",
       " 'Marshtomp',\n",
       " 'Masquerain',\n",
       " 'Mawile',\n",
       " 'Medicham',\n",
       " 'Meditite',\n",
       " 'Meganium',\n",
       " 'Meloetta',\n",
       " 'Meowstic',\n",
       " 'Meowth',\n",
       " 'Mesprit',\n",
       " 'Metagross',\n",
       " 'Metang',\n",
       " 'Metapod',\n",
       " 'Mew',\n",
       " 'Mewtwo',\n",
       " 'Mienfoo',\n",
       " 'Mienshao',\n",
       " 'Mightyena',\n",
       " 'Milotic',\n",
       " 'Miltank',\n",
       " 'Mime Jr.',\n",
       " 'Minccino',\n",
       " 'Minun',\n",
       " 'Misdreavus',\n",
       " 'Mismagius',\n",
       " 'Moltres',\n",
       " 'Monferno',\n",
       " 'Mothim',\n",
       " 'Mr. Mime',\n",
       " 'Mudkip',\n",
       " 'Muk',\n",
       " 'Munchlax',\n",
       " 'Munna',\n",
       " 'Murkrow',\n",
       " 'Musharna',\n",
       " 'Natu',\n",
       " 'Nidoking',\n",
       " 'Nidoqueen',\n",
       " 'Nidoran',\n",
       " 'Nidoran♂',\n",
       " 'Nidorina',\n",
       " 'Nidorino',\n",
       " 'Nincada',\n",
       " 'Ninetales',\n",
       " 'Ninjask',\n",
       " 'Noctowl',\n",
       " 'Noibat',\n",
       " 'Noivern',\n",
       " 'Nosepass',\n",
       " 'Numel',\n",
       " 'Nuzleaf',\n",
       " 'Octillery',\n",
       " 'Oddish',\n",
       " 'Omanyte',\n",
       " 'Omastar',\n",
       " 'Onix',\n",
       " 'Oshawott',\n",
       " 'Pachirisu',\n",
       " 'Palkia',\n",
       " 'Palpitoad',\n",
       " 'Pancham',\n",
       " 'Pangoro',\n",
       " 'Panpour',\n",
       " 'Pansage',\n",
       " 'Pansear',\n",
       " 'Paras',\n",
       " 'Parasect',\n",
       " 'Patrat',\n",
       " 'Pawniard',\n",
       " 'Pelipper',\n",
       " 'Persian',\n",
       " 'Petilil',\n",
       " 'Phanpy',\n",
       " 'Phantump',\n",
       " 'Phione',\n",
       " 'Pichu',\n",
       " 'Pidgeot',\n",
       " 'Pidgeotto',\n",
       " 'Pidgey',\n",
       " 'Pidove',\n",
       " 'Pignite',\n",
       " 'Pikachu',\n",
       " 'Piloswine',\n",
       " 'Pineco',\n",
       " 'Pinsir',\n",
       " 'Piplup',\n",
       " 'Plusle',\n",
       " 'Politoed',\n",
       " 'Poliwag',\n",
       " 'Poliwhirl',\n",
       " 'Poliwrath',\n",
       " 'Ponyta',\n",
       " 'Poochyena',\n",
       " 'Porygon',\n",
       " 'Porygon-Z',\n",
       " 'Porygon2',\n",
       " 'Primeape',\n",
       " 'Prinplup',\n",
       " 'Probopass',\n",
       " 'Psyduck',\n",
       " 'Pumpkaboo',\n",
       " 'Pupitar',\n",
       " 'Purrloin',\n",
       " 'Purugly',\n",
       " 'Pyroar',\n",
       " 'Quagsire',\n",
       " 'Quilava',\n",
       " 'Quilladin',\n",
       " 'Qwilfish',\n",
       " 'Raichu',\n",
       " 'Raikou',\n",
       " 'Ralts',\n",
       " 'Rampardos',\n",
       " 'Rapidash',\n",
       " 'Raticate',\n",
       " 'Rattata',\n",
       " 'Rayquaza',\n",
       " 'Regice',\n",
       " 'Regigigas',\n",
       " 'Regirock',\n",
       " 'Registeel',\n",
       " 'Relicanth',\n",
       " 'Remoraid',\n",
       " 'Reshiram',\n",
       " 'Reuniclus',\n",
       " 'Rhydon',\n",
       " 'Rhyhorn',\n",
       " 'Rhyperior',\n",
       " 'Riolu',\n",
       " 'Roggenrola',\n",
       " 'Roselia',\n",
       " 'Roserade',\n",
       " 'Rotom',\n",
       " 'Rufflet',\n",
       " 'Sableye',\n",
       " 'Salamence',\n",
       " 'Samurott',\n",
       " 'Sandile',\n",
       " 'Sandshrew',\n",
       " 'Sandslash',\n",
       " 'Sawk',\n",
       " 'Sawsbuck',\n",
       " 'Scatterbug',\n",
       " 'Sceptile',\n",
       " 'Scizor',\n",
       " 'Scolipede',\n",
       " 'Scrafty',\n",
       " 'Scraggy',\n",
       " 'Scyther',\n",
       " 'Seadra',\n",
       " 'Seaking',\n",
       " 'Sealeo',\n",
       " 'Seedot',\n",
       " 'Seel',\n",
       " 'Seismitoad',\n",
       " 'Sentret',\n",
       " 'Serperior',\n",
       " 'Servine',\n",
       " 'Seviper',\n",
       " 'Sewaddle',\n",
       " 'Sharpedo',\n",
       " 'Shaymin',\n",
       " 'Shedinja',\n",
       " 'Shelgon',\n",
       " 'Shellder',\n",
       " 'Shellos',\n",
       " 'Shelmet',\n",
       " 'Shieldon',\n",
       " 'Shiftry',\n",
       " 'Shinx',\n",
       " 'Shroomish',\n",
       " 'Shuckle',\n",
       " 'Shuppet',\n",
       " 'Sigilyph',\n",
       " 'Silcoon',\n",
       " 'Simipour',\n",
       " 'Simisage',\n",
       " 'Simisear',\n",
       " 'Skarmory',\n",
       " 'Skiddo',\n",
       " 'Skiploom',\n",
       " 'Skitty',\n",
       " 'Skorupi',\n",
       " 'Skrelp',\n",
       " 'Skuntank',\n",
       " 'Slaking',\n",
       " 'Slakoth',\n",
       " 'Sliggoo',\n",
       " 'Slowbro',\n",
       " 'Slowking',\n",
       " 'Slowpoke',\n",
       " 'Slugma',\n",
       " 'Slurpuff',\n",
       " 'Smeargle',\n",
       " 'Smoochum',\n",
       " 'Sneasel',\n",
       " 'Snivy',\n",
       " 'Snorlax',\n",
       " 'Snorunt',\n",
       " 'Snover',\n",
       " 'Snubbull',\n",
       " 'Solosis',\n",
       " 'Solrock',\n",
       " 'Spearow',\n",
       " 'Spewpa',\n",
       " 'Spheal',\n",
       " 'Spinarak',\n",
       " 'Spinda',\n",
       " 'Spiritomb',\n",
       " 'Spoink',\n",
       " 'Spritzee',\n",
       " 'Squirtle',\n",
       " 'Stantler',\n",
       " 'Staraptor',\n",
       " 'Staravia',\n",
       " 'Starly',\n",
       " 'Starmie',\n",
       " 'Staryu',\n",
       " 'Steelix',\n",
       " 'Stoutland',\n",
       " 'Stunfisk',\n",
       " 'Stunky',\n",
       " 'Sudowoodo',\n",
       " 'Suicune',\n",
       " 'Sunflora',\n",
       " 'Sunkern',\n",
       " 'Surskit',\n",
       " 'Swablu',\n",
       " 'Swadloon',\n",
       " 'Swalot',\n",
       " 'Swampert',\n",
       " 'Swanna',\n",
       " 'Swellow',\n",
       " 'Swinub',\n",
       " 'Swirlix',\n",
       " 'Swoobat',\n",
       " 'Sylveon',\n",
       " 'Taillow',\n",
       " 'Talonflame',\n",
       " 'Tangela',\n",
       " 'Tangrowth',\n",
       " 'Tauros',\n",
       " 'Teddiursa',\n",
       " 'Tentacool',\n",
       " 'Tentacruel',\n",
       " 'Tepig',\n",
       " 'Terrakion',\n",
       " 'Throh',\n",
       " 'Thundurus',\n",
       " 'Timburr',\n",
       " 'Tirtouga',\n",
       " 'Togekiss',\n",
       " 'Togepi',\n",
       " 'Togetic',\n",
       " 'Torchic',\n",
       " 'Torkoal',\n",
       " 'Tornadus',\n",
       " 'Torterra',\n",
       " 'Totodile',\n",
       " 'Toxicroak',\n",
       " 'Tranquill',\n",
       " 'Trapinch',\n",
       " 'Treecko',\n",
       " 'Trevenant',\n",
       " 'Tropius',\n",
       " 'Trubbish',\n",
       " 'Turtwig',\n",
       " 'Tympole',\n",
       " 'Tynamo',\n",
       " 'Typhlosion',\n",
       " 'Tyranitar',\n",
       " 'Tyrantrum',\n",
       " 'Tyrogue',\n",
       " 'Tyrunt',\n",
       " 'Umbreon',\n",
       " 'Unfezant',\n",
       " 'Unown',\n",
       " 'Ursaring',\n",
       " 'Uxie',\n",
       " 'Vanillish',\n",
       " 'Vanillite',\n",
       " 'Vanilluxe',\n",
       " 'Vaporeon',\n",
       " 'Venipede',\n",
       " 'Venomoth',\n",
       " 'Venonat',\n",
       " 'Venusaur',\n",
       " 'Vespiquen',\n",
       " 'Vibrava',\n",
       " 'Victini',\n",
       " 'Victreebel',\n",
       " 'Vigoroth',\n",
       " 'Vileplume',\n",
       " 'Virizion',\n",
       " 'Vivillon',\n",
       " 'Volbeat',\n",
       " 'Volcanion',\n",
       " 'Volcarona',\n",
       " 'Voltorb',\n",
       " 'Vullaby',\n",
       " 'Vulpix',\n",
       " 'Wailmer',\n",
       " 'Wailord',\n",
       " 'Walrein',\n",
       " 'Wartortle',\n",
       " 'Watchog',\n",
       " 'Weavile',\n",
       " 'Weedle',\n",
       " 'Weepinbell',\n",
       " 'Weezing',\n",
       " 'Whimsicott',\n",
       " 'Whirlipede',\n",
       " 'Whiscash',\n",
       " 'Whismur',\n",
       " 'Wigglytuff',\n",
       " 'Wingull',\n",
       " 'Wobbuffet',\n",
       " 'Woobat',\n",
       " 'Wooper',\n",
       " 'Wormadam',\n",
       " 'Wurmple',\n",
       " 'Wynaut',\n",
       " 'Xatu',\n",
       " 'Xerneas',\n",
       " 'Yamask',\n",
       " 'Yanma',\n",
       " 'Yanmega',\n",
       " 'Yveltal',\n",
       " 'Zangoose',\n",
       " 'Zapdos',\n",
       " 'Zebstrika',\n",
       " 'Zekrom',\n",
       " 'Zigzagoon',\n",
       " 'Zoroark',\n",
       " 'Zorua',\n",
       " 'Zubat',\n",
       " 'Zweilous',\n",
       " 'Zygarde']"
      ]
     },
     "execution_count": 6,
     "metadata": {},
     "output_type": "execute_result"
    }
   ],
   "source": [
    "# List the all available attributes and methods available for series \n",
    "dir(pokemon)\n",
    "dict(pokemon)\n",
    "list(pokemon)\n",
    "sorted(pokemon)"
   ]
  },
  {
   "cell_type": "code",
   "execution_count": 7,
   "metadata": {},
   "outputs": [
    {
     "name": "stdout",
     "output_type": "stream",
     "text": [
      "Zygarde\n",
      "49.95\n",
      "3011\n",
      "11\n"
     ]
    }
   ],
   "source": [
    "print(max(pokemon))\n",
    "print(min(google))\n",
    "print(google.idxmax())\n",
    "print(google.idxmin())"
   ]
  },
  {
   "cell_type": "code",
   "execution_count": 8,
   "metadata": {},
   "outputs": [
    {
     "data": {
      "text/plain": [
       "array([ 50.12,  54.1 ,  54.65, ..., 773.18, 771.61, 782.22])"
      ]
     },
     "execution_count": 8,
     "metadata": {},
     "output_type": "execute_result"
    }
   ],
   "source": [
    "google.values"
   ]
  },
  {
   "cell_type": "code",
   "execution_count": 9,
   "metadata": {},
   "outputs": [
    {
     "data": {
      "text/plain": [
       "RangeIndex(start=0, stop=3012, step=1)"
      ]
     },
     "execution_count": 9,
     "metadata": {},
     "output_type": "execute_result"
    }
   ],
   "source": [
    "google.index"
   ]
  },
  {
   "cell_type": "code",
   "execution_count": 10,
   "metadata": {},
   "outputs": [
    {
     "data": {
      "text/plain": [
       "dtype('float64')"
      ]
     },
     "execution_count": 10,
     "metadata": {},
     "output_type": "execute_result"
    }
   ],
   "source": [
    "google.dtype"
   ]
  },
  {
   "cell_type": "code",
   "execution_count": 11,
   "metadata": {},
   "outputs": [
    {
     "data": {
      "text/plain": [
       "True"
      ]
     },
     "execution_count": 11,
     "metadata": {},
     "output_type": "execute_result"
    }
   ],
   "source": [
    "pokemon.is_unique"
   ]
  },
  {
   "cell_type": "code",
   "execution_count": 12,
   "metadata": {},
   "outputs": [
    {
     "data": {
      "text/plain": [
       "1"
      ]
     },
     "execution_count": 12,
     "metadata": {},
     "output_type": "execute_result"
    }
   ],
   "source": [
    "pokemon.ndim\n",
    "google.ndim"
   ]
  },
  {
   "cell_type": "code",
   "execution_count": 13,
   "metadata": {},
   "outputs": [
    {
     "data": {
      "text/plain": [
       "(3012,)"
      ]
     },
     "execution_count": 13,
     "metadata": {},
     "output_type": "execute_result"
    }
   ],
   "source": [
    "pokemon.shape\n",
    "google.shape"
   ]
  },
  {
   "cell_type": "code",
   "execution_count": 14,
   "metadata": {},
   "outputs": [
    {
     "data": {
      "text/plain": [
       "721"
      ]
     },
     "execution_count": 14,
     "metadata": {},
     "output_type": "execute_result"
    }
   ],
   "source": [
    "pokemon.size"
   ]
  },
  {
   "cell_type": "code",
   "execution_count": 15,
   "metadata": {},
   "outputs": [
    {
     "name": "stdout",
     "output_type": "stream",
     "text": [
      "Pokemon\n",
      "Stock Price\n",
      "STOCKs\n"
     ]
    }
   ],
   "source": [
    "print(pokemon.name)\n",
    "print(google.name)\n",
    "google.name = \"STOCKs\"\n",
    "print(google.name)"
   ]
  },
  {
   "cell_type": "code",
   "execution_count": 16,
   "metadata": {},
   "outputs": [
    {
     "data": {
      "text/plain": [
       "0    50.12\n",
       "1    54.10\n",
       "2    54.65\n",
       "3    52.38\n",
       "4    52.95\n",
       "Name: STOCKs, dtype: float64"
      ]
     },
     "execution_count": 16,
     "metadata": {},
     "output_type": "execute_result"
    }
   ],
   "source": [
    "google.head()"
   ]
  },
  {
   "cell_type": "code",
   "execution_count": 17,
   "metadata": {},
   "outputs": [
    {
     "data": {
      "text/plain": [
       "11    49.95\n",
       "9     50.07\n",
       "0     50.12\n",
       "10    50.70\n",
       "12    50.74\n",
       "Name: STOCKs, dtype: float64"
      ]
     },
     "execution_count": 17,
     "metadata": {},
     "output_type": "execute_result"
    }
   ],
   "source": [
    "pokemon.sort_values().head()\n",
    "pokemon.sort_values(ascending=False).head()\n",
    "google.sort_values().head()"
   ]
  },
  {
   "cell_type": "code",
   "execution_count": 18,
   "metadata": {},
   "outputs": [
    {
     "data": {
      "text/plain": [
       "11    49.95\n",
       "9     50.07\n",
       "Name: STOCKs, dtype: float64"
      ]
     },
     "execution_count": 18,
     "metadata": {},
     "output_type": "execute_result"
    }
   ],
   "source": [
    "google = google.sort_values()\n",
    "google.head(2)"
   ]
  },
  {
   "cell_type": "code",
   "execution_count": 19,
   "metadata": {},
   "outputs": [],
   "source": [
    "google.sort_values(ascending=False, inplace=True)"
   ]
  },
  {
   "cell_type": "code",
   "execution_count": 20,
   "metadata": {},
   "outputs": [
    {
     "data": {
      "text/plain": [
       "3011    782.22\n",
       "2859    776.60\n",
       "3009    773.18\n",
       "3007    772.88\n",
       "3010    771.61\n",
       "Name: STOCKs, dtype: float64"
      ]
     },
     "execution_count": 20,
     "metadata": {},
     "output_type": "execute_result"
    }
   ],
   "source": [
    "google.head()"
   ]
  },
  {
   "cell_type": "code",
   "execution_count": 21,
   "metadata": {},
   "outputs": [],
   "source": [
    "pokemon.sort_values(inplace=True)"
   ]
  },
  {
   "cell_type": "code",
   "execution_count": 22,
   "metadata": {},
   "outputs": [
    {
     "data": {
      "text/plain": [
       "459    Abomasnow\n",
       "62          Abra\n",
       "358        Absol\n",
       "616     Accelgor\n",
       "680    Aegislash\n",
       "Name: Pokemon, dtype: object"
      ]
     },
     "execution_count": 22,
     "metadata": {},
     "output_type": "execute_result"
    }
   ],
   "source": [
    "pokemon.head()"
   ]
  },
  {
   "cell_type": "code",
   "execution_count": 23,
   "metadata": {},
   "outputs": [
    {
     "data": {
      "text/plain": [
       "0    Bulbasaur\n",
       "1      Ivysaur\n",
       "Name: Pokemon, dtype: object"
      ]
     },
     "execution_count": 23,
     "metadata": {},
     "output_type": "execute_result"
    }
   ],
   "source": [
    "pokemon.sort_index(inplace=True)\n",
    "pokemon.head(2)"
   ]
  },
  {
   "cell_type": "code",
   "execution_count": 24,
   "metadata": {},
   "outputs": [
    {
     "data": {
      "text/plain": [
       "True"
      ]
     },
     "execution_count": 24,
     "metadata": {},
     "output_type": "execute_result"
    }
   ],
   "source": [
    "100 in pokemon\n",
    "100 in pokemon.index\n"
   ]
  },
  {
   "cell_type": "code",
   "execution_count": 25,
   "metadata": {},
   "outputs": [
    {
     "data": {
      "text/plain": [
       "True"
      ]
     },
     "execution_count": 25,
     "metadata": {},
     "output_type": "execute_result"
    }
   ],
   "source": [
    "\"Bulbasaur\" in pokemon.values"
   ]
  },
  {
   "cell_type": "code",
   "execution_count": 26,
   "metadata": {},
   "outputs": [
    {
     "data": {
      "text/plain": [
       "16     Pidgeotto\n",
       "15        Pidgey\n",
       "14      Beedrill\n",
       "13        Kakuna\n",
       "12        Weedle\n",
       "11    Butterfree\n",
       "10       Metapod\n",
       "9       Caterpie\n",
       "8      Blastoise\n",
       "7      Wartortle\n",
       "6       Squirtle\n",
       "5      Charizard\n",
       "4     Charmeleon\n",
       "3     Charmander\n",
       "2       Venusaur\n",
       "1        Ivysaur\n",
       "0      Bulbasaur\n",
       "Name: Pokemon, dtype: object"
      ]
     },
     "execution_count": 26,
     "metadata": {},
     "output_type": "execute_result"
    }
   ],
   "source": [
    "pokemon[500]\n",
    "pokemon[[100, 200, 300]]\n",
    "pokemon[50:55]\n",
    "pokemon[:5]\n",
    "pokemon[-5:]\n",
    "pokemon[-705::-1]"
   ]
  },
  {
   "cell_type": "code",
   "execution_count": 27,
   "metadata": {},
   "outputs": [
    {
     "data": {
      "text/plain": [
       "Pokemon\n",
       "Bulbasaur     Grass\n",
       "Ivysaur       Grass\n",
       "Venusaur      Grass\n",
       "Charmander     Fire\n",
       "Charmeleon     Fire\n",
       "Name: Type, dtype: object"
      ]
     },
     "execution_count": 27,
     "metadata": {},
     "output_type": "execute_result"
    }
   ],
   "source": [
    "pokemon = pd.read_csv('pokemon.csv', index_col='Pokemon', squeeze=True)\n",
    "pokemon.head()\n",
    "#pd.read_csv('google_stock_price.csv', squeeze=True)"
   ]
  },
  {
   "cell_type": "code",
   "execution_count": 28,
   "metadata": {},
   "outputs": [
    {
     "name": "stderr",
     "output_type": "stream",
     "text": [
      "C:\\Users\\ab59349\\AppData\\Local\\Continuum\\anaconda3\\lib\\site-packages\\pandas\\core\\series.py:851: FutureWarning: \n",
      "Passing list-likes to .loc or [] with any missing label will raise\n",
      "KeyError in the future, you can use .reindex() as an alternative.\n",
      "\n",
      "See the documentation here:\n",
      "https://pandas.pydata.org/pandas-docs/stable/indexing.html#deprecate-loc-reindex-listlike\n",
      "  return self.loc[key]\n"
     ]
    },
    {
     "data": {
      "text/plain": [
       "Pokemon\n",
       "Bulbasaur     Grass\n",
       "Charmander     Fire\n",
       "Digimon         NaN\n",
       "Name: Type, dtype: object"
      ]
     },
     "execution_count": 28,
     "metadata": {},
     "output_type": "execute_result"
    }
   ],
   "source": [
    "pokemon['Bulbasaur']\n",
    "pokemon[['Bulbasaur', 'Charmander']]\n",
    "pokemon[['Bulbasaur', 'Charmander', 'Digimon']]"
   ]
  },
  {
   "cell_type": "code",
   "execution_count": 29,
   "metadata": {},
   "outputs": [
    {
     "data": {
      "text/plain": [
       "Pokemon\n",
       "Abomasnow      Grass\n",
       "Abra         Psychic\n",
       "Absol           Dark\n",
       "Name: Type, dtype: object"
      ]
     },
     "execution_count": 29,
     "metadata": {},
     "output_type": "execute_result"
    }
   ],
   "source": [
    "pokemon.sort_index(inplace=True)\n",
    "pokemon.head(3)"
   ]
  },
  {
   "cell_type": "code",
   "execution_count": 30,
   "metadata": {},
   "outputs": [
    {
     "name": "stderr",
     "output_type": "stream",
     "text": [
      "C:\\Users\\ab59349\\AppData\\Local\\Continuum\\anaconda3\\lib\\site-packages\\pandas\\core\\series.py:851: FutureWarning: \n",
      "Passing list-likes to .loc or [] with any missing label will raise\n",
      "KeyError in the future, you can use .reindex() as an alternative.\n",
      "\n",
      "See the documentation here:\n",
      "https://pandas.pydata.org/pandas-docs/stable/indexing.html#deprecate-loc-reindex-listlike\n",
      "  return self.loc[key]\n"
     ]
    },
    {
     "data": {
      "text/plain": [
       "Pokemon\n",
       "Absol      Dark\n",
       "Moltres    Fire\n",
       "Digimon     NaN\n",
       "Name: Type, dtype: object"
      ]
     },
     "execution_count": 30,
     "metadata": {},
     "output_type": "execute_result"
    }
   ],
   "source": [
    "pokemon.get('Absol')\n",
    "pokemon.get(['Absol','Moltres'])\n",
    "pokemon.get(['Absol','Moltres', 'Digimon'])"
   ]
  },
  {
   "cell_type": "code",
   "execution_count": 31,
   "metadata": {},
   "outputs": [
    {
     "data": {
      "text/plain": [
       "3011    782.22\n",
       "2859    776.60\n",
       "3009    773.18\n",
       "3007    772.88\n",
       "3010    771.61\n",
       "Name: STOCKs, dtype: float64"
      ]
     },
     "execution_count": 31,
     "metadata": {},
     "output_type": "execute_result"
    }
   ],
   "source": [
    "google.head()"
   ]
  },
  {
   "cell_type": "code",
   "execution_count": 32,
   "metadata": {},
   "outputs": [
    {
     "data": {
      "text/plain": [
       "3012"
      ]
     },
     "execution_count": 32,
     "metadata": {},
     "output_type": "execute_result"
    }
   ],
   "source": [
    "google.count()"
   ]
  },
  {
   "cell_type": "code",
   "execution_count": 33,
   "metadata": {},
   "outputs": [
    {
     "data": {
      "text/plain": [
       "1006942.0000000001"
      ]
     },
     "execution_count": 33,
     "metadata": {},
     "output_type": "execute_result"
    }
   ],
   "source": [
    "google.sum()"
   ]
  },
  {
   "cell_type": "code",
   "execution_count": 34,
   "metadata": {},
   "outputs": [
    {
     "data": {
      "text/plain": [
       "49.95"
      ]
     },
     "execution_count": 34,
     "metadata": {},
     "output_type": "execute_result"
    }
   ],
   "source": [
    "google.min()"
   ]
  },
  {
   "cell_type": "code",
   "execution_count": 35,
   "metadata": {},
   "outputs": [
    {
     "data": {
      "text/plain": [
       "173.18720477113112"
      ]
     },
     "execution_count": 35,
     "metadata": {},
     "output_type": "execute_result"
    }
   ],
   "source": [
    "google.std()"
   ]
  },
  {
   "cell_type": "code",
   "execution_count": 36,
   "metadata": {},
   "outputs": [
    {
     "data": {
      "text/plain": [
       "49.95"
      ]
     },
     "execution_count": 36,
     "metadata": {},
     "output_type": "execute_result"
    }
   ],
   "source": [
    "google.min()"
   ]
  },
  {
   "cell_type": "code",
   "execution_count": 37,
   "metadata": {},
   "outputs": [
    {
     "data": {
      "text/plain": [
       "782.22"
      ]
     },
     "execution_count": 37,
     "metadata": {},
     "output_type": "execute_result"
    }
   ],
   "source": [
    "google.max()"
   ]
  },
  {
   "cell_type": "code",
   "execution_count": 38,
   "metadata": {},
   "outputs": [
    {
     "data": {
      "text/plain": [
       "283.315"
      ]
     },
     "execution_count": 38,
     "metadata": {},
     "output_type": "execute_result"
    }
   ],
   "source": [
    "google.median()"
   ]
  },
  {
   "cell_type": "code",
   "execution_count": 39,
   "metadata": {},
   "outputs": [
    {
     "data": {
      "text/plain": [
       "0    291.21\n",
       "dtype: float64"
      ]
     },
     "execution_count": 39,
     "metadata": {},
     "output_type": "execute_result"
    }
   ],
   "source": [
    "google.mode()"
   ]
  },
  {
   "cell_type": "code",
   "execution_count": 40,
   "metadata": {},
   "outputs": [
    {
     "data": {
      "text/plain": [
       "count    3012.000000\n",
       "mean      334.310093\n",
       "std       173.187205\n",
       "min        49.950000\n",
       "25%       218.045000\n",
       "50%       283.315000\n",
       "75%       443.000000\n",
       "max       782.220000\n",
       "Name: STOCKs, dtype: float64"
      ]
     },
     "execution_count": 40,
     "metadata": {},
     "output_type": "execute_result"
    }
   ],
   "source": [
    "google.describe()"
   ]
  },
  {
   "cell_type": "code",
   "execution_count": 41,
   "metadata": {},
   "outputs": [
    {
     "data": {
      "text/plain": [
       "3011"
      ]
     },
     "execution_count": 41,
     "metadata": {},
     "output_type": "execute_result"
    }
   ],
   "source": [
    "google.idxmax()"
   ]
  },
  {
   "cell_type": "code",
   "execution_count": 42,
   "metadata": {},
   "outputs": [
    {
     "data": {
      "text/plain": [
       "11"
      ]
     },
     "execution_count": 42,
     "metadata": {},
     "output_type": "execute_result"
    }
   ],
   "source": [
    "google.idxmin()"
   ]
  },
  {
   "cell_type": "code",
   "execution_count": 43,
   "metadata": {},
   "outputs": [
    {
     "data": {
      "text/plain": [
       "49.95"
      ]
     },
     "execution_count": 43,
     "metadata": {},
     "output_type": "execute_result"
    }
   ],
   "source": [
    "google[google.idxmin()]"
   ]
  },
  {
   "cell_type": "code",
   "execution_count": 44,
   "metadata": {},
   "outputs": [
    {
     "data": {
      "text/plain": [
       "Water       105\n",
       "Normal       93\n",
       "Grass        66\n",
       "Bug          63\n",
       "Fire         47\n",
       "Psychic      47\n",
       "Rock         41\n",
       "Electric     36\n",
       "Ground       30\n",
       "Poison       28\n",
       "Dark         28\n",
       "Fighting     25\n",
       "Dragon       24\n",
       "Ghost        23\n",
       "Ice          23\n",
       "Steel        22\n",
       "Fairy        17\n",
       "Flying        3\n",
       "Name: Type, dtype: int64"
      ]
     },
     "execution_count": 44,
     "metadata": {},
     "output_type": "execute_result"
    }
   ],
   "source": [
    "pokemon.value_counts()"
   ]
  },
  {
   "cell_type": "code",
   "execution_count": 45,
   "metadata": {},
   "outputs": [
    {
     "data": {
      "text/plain": [
       "0    50.12\n",
       "1    54.10\n",
       "2    54.65\n",
       "3    52.38\n",
       "4    52.95\n",
       "Name: Stock Price, dtype: float64"
      ]
     },
     "execution_count": 45,
     "metadata": {},
     "output_type": "execute_result"
    }
   ],
   "source": [
    "google = pd.read_csv('google_stock_price.csv', squeeze=True)\n",
    "google.head()"
   ]
  },
  {
   "cell_type": "code",
   "execution_count": 46,
   "metadata": {},
   "outputs": [],
   "source": [
    "def classify(num):\n",
    "    if num < 300:\n",
    "        return \"OK\"\n",
    "    if num >= 300 and num < 650:\n",
    "        return \"Satisfactory\"\n",
    "    else:\n",
    "        return \"Incredible\""
   ]
  },
  {
   "cell_type": "code",
   "execution_count": 47,
   "metadata": {},
   "outputs": [
    {
     "name": "stdout",
     "output_type": "stream",
     "text": [
      "3007    Incredible\n",
      "3008    Incredible\n",
      "3009    Incredible\n",
      "3010    Incredible\n",
      "3011    Incredible\n",
      "Name: Stock Price, dtype: object\n"
     ]
    },
    {
     "data": {
      "text/plain": [
       "3007    6.650124\n",
       "3008    6.647779\n",
       "3009    6.650512\n",
       "3010    6.648479\n",
       "3011    6.662136\n",
       "Name: Stock Price, dtype: float64"
      ]
     },
     "execution_count": 47,
     "metadata": {},
     "output_type": "execute_result"
    }
   ],
   "source": [
    "print(google.apply(classify).tail())\n",
    "\n",
    "import numpy as np\n",
    "google.apply(np.log).tail()"
   ]
  },
  {
   "cell_type": "code",
   "execution_count": 48,
   "metadata": {},
   "outputs": [
    {
     "data": {
      "text/plain": [
       "0    51.12\n",
       "1    55.10\n",
       "2    55.65\n",
       "3    53.38\n",
       "4    53.95\n",
       "Name: Stock Price, dtype: float64"
      ]
     },
     "execution_count": 48,
     "metadata": {},
     "output_type": "execute_result"
    }
   ],
   "source": [
    "google.apply(lambda stock_price : stock_price + 1).head()"
   ]
  },
  {
   "cell_type": "code",
   "execution_count": 49,
   "metadata": {},
   "outputs": [
    {
     "data": {
      "text/plain": [
       "24096"
      ]
     },
     "execution_count": 49,
     "metadata": {},
     "output_type": "execute_result"
    }
   ],
   "source": [
    "google.nbytes"
   ]
  },
  {
   "cell_type": "code",
   "execution_count": 50,
   "metadata": {},
   "outputs": [
    {
     "name": "stderr",
     "output_type": "stream",
     "text": [
      "C:\\Users\\ab59349\\AppData\\Local\\Continuum\\anaconda3\\lib\\site-packages\\ipykernel_launcher.py:1: FutureWarning: Series.itemsize is deprecated and will be removed in a future version\n",
      "  \"\"\"Entry point for launching an IPython kernel.\n"
     ]
    },
    {
     "data": {
      "text/plain": [
       "8"
      ]
     },
     "execution_count": 50,
     "metadata": {},
     "output_type": "execute_result"
    }
   ],
   "source": [
    "google.itemsize"
   ]
  },
  {
   "cell_type": "code",
   "execution_count": 51,
   "metadata": {},
   "outputs": [
    {
     "name": "stderr",
     "output_type": "stream",
     "text": [
      "C:\\Users\\ab59349\\AppData\\Local\\Continuum\\anaconda3\\lib\\site-packages\\ipykernel_launcher.py:1: FutureWarning: get_value is deprecated and will be removed in a future release. Please use .at[] or .iat[] accessors instead\n",
      "  \"\"\"Entry point for launching an IPython kernel.\n"
     ]
    },
    {
     "data": {
      "text/plain": [
       "54.1"
      ]
     },
     "execution_count": 51,
     "metadata": {},
     "output_type": "execute_result"
    }
   ],
   "source": [
    "google.get_value(1)"
   ]
  },
  {
   "cell_type": "code",
   "execution_count": 52,
   "metadata": {
    "scrolled": true
   },
   "outputs": [
    {
     "name": "stdout",
     "output_type": "stream",
     "text": [
      "float64\n"
     ]
    },
    {
     "data": {
      "text/plain": [
       "0    50\n",
       "1    54\n",
       "2    54\n",
       "3    52\n",
       "4    52\n",
       "Name: Stock Price, dtype: int32"
      ]
     },
     "execution_count": 52,
     "metadata": {},
     "output_type": "execute_result"
    }
   ],
   "source": [
    "print(google.dtype)\n",
    "google.astype('int32').head()"
   ]
  },
  {
   "cell_type": "code",
   "execution_count": null,
   "metadata": {},
   "outputs": [],
   "source": []
  },
  {
   "cell_type": "code",
   "execution_count": null,
   "metadata": {},
   "outputs": [],
   "source": []
  },
  {
   "cell_type": "code",
   "execution_count": null,
   "metadata": {},
   "outputs": [],
   "source": []
  }
 ],
 "metadata": {
  "kernelspec": {
   "display_name": "Python 3",
   "language": "python",
   "name": "python3"
  },
  "language_info": {
   "codemirror_mode": {
    "name": "ipython",
    "version": 3
   },
   "file_extension": ".py",
   "mimetype": "text/x-python",
   "name": "python",
   "nbconvert_exporter": "python",
   "pygments_lexer": "ipython3",
   "version": "3.7.0"
  }
 },
 "nbformat": 4,
 "nbformat_minor": 2
}
